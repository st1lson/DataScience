{
 "cells": [
  {
   "cell_type": "code",
   "execution_count": null,
   "source": [
    "import matplotlib.pyplot as plt\n",
    "import plotly.express as px"
   ],
   "outputs": [],
   "metadata": {}
  },
  {
   "cell_type": "code",
   "execution_count": null,
   "source": [
    "from FactorAnalyze.AEModel.inference import Inference\n",
    "from FactorAnalyze.PCA.PCA import PCA_cleaning\n",
    " \n",
    "#from clustering.py import clustering "
   ],
   "outputs": [],
   "metadata": {}
  },
  {
   "cell_type": "code",
   "execution_count": null,
   "source": [
    "data = [] #read data"
   ],
   "outputs": [],
   "metadata": {}
  },
  {
   "cell_type": "code",
   "execution_count": null,
   "source": [
    "def visualize(data):\n",
    "    fig = px.scatter_3d(\n",
    "        data, x='Component 1', y='Component 2', z='Component 3',\n",
    "        color=data.labels_[data.index], hover_data=['name_reg'],\n",
    "        width=1000, height=800\n",
    "    )\n",
    "\n",
    "    centers = data.cluster_centers_\n",
    "    fig.add_scatter3d(\n",
    "        x=centers[:, 0], y=centers[:, 1], z=centers[:, 2], \n",
    "        mode='markers', opacity=0.7, marker_symbol='x',\n",
    "        marker = dict(\n",
    "            color='green'\n",
    "        ),\n",
    "        name='Cluster centers',\n",
    "    )\n",
    "\n",
    "    fig.update(layout_coloraxis_showscale=False)\n",
    "\n",
    "    fig.show()"
   ],
   "outputs": [],
   "metadata": {}
  },
  {
   "cell_type": "code",
   "execution_count": null,
   "source": [
    "inf = Inference('model.pt')\n",
    "encoded_data = inf.encode_data(data)\n",
    "#data clustering\n",
    "visualize(encoded_data)"
   ],
   "outputs": [],
   "metadata": {}
  },
  {
   "cell_type": "code",
   "execution_count": null,
   "source": [
    "data = PCA_cleaning(data)\n",
    "#data clustering\n",
    "visualize(encoded_data)"
   ],
   "outputs": [],
   "metadata": {}
  }
 ],
 "metadata": {
  "orig_nbformat": 4,
  "language_info": {
   "name": "python"
  }
 },
 "nbformat": 4,
 "nbformat_minor": 2
}